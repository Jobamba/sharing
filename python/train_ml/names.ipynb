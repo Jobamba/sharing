{
 "cells": [
  {
   "cell_type": "code",
   "execution_count": 1,
   "metadata": {
    "lines_to_next_cell": 1
   },
   "outputs": [],
   "source": [
    "import numpy as np"
   ]
  },
  {
   "cell_type": "code",
   "execution_count": 2,
   "metadata": {
    "lines_to_next_cell": 1
   },
   "outputs": [],
   "source": [
    "def read_file(filename):\n",
    "    with open(filename) as f:\n",
    "        content = f.readlines()\n",
    "    y = [line[0] for line in content]\n",
    "    X = [line[2:].strip() for line in content]\n",
    "\n",
    "    ty = np.zeros(len(y))\n",
    "    for k in range(len(y)):\n",
    "        if y[k] == '+':\n",
    "            ty[k] = 1\n",
    "    return X,ty"
   ]
  },
  {
   "cell_type": "code",
   "execution_count": 3,
   "metadata": {},
   "outputs": [],
   "source": [
    "Xtr, ytr = read_file('Names_data_train_large.txt')\n",
    "Xte, yte = read_file('Names_data_test.txt')"
   ]
  },
  {
   "cell_type": "code",
   "execution_count": 4,
   "metadata": {
    "lines_to_next_cell": 2
   },
   "outputs": [],
   "source": [
    "n_samples = len(Xtr)"
   ]
  },
  {
   "cell_type": "code",
   "execution_count": 5,
   "metadata": {
    "lines_to_next_cell": 1
   },
   "outputs": [],
   "source": [
    "iters = 100\n",
    "speed = 0.01"
   ]
  },
  {
   "cell_type": "code",
   "execution_count": 6,
   "metadata": {
    "lines_to_next_cell": 1
   },
   "outputs": [],
   "source": [
    "def extractX(Xtr,length):\n",
    "    start=0\n",
    "    tX = np.empty([0, length])\n",
    "    for mys in Xtr:\n",
    "        sec = np.array([ord(x) for x in mys[start:start+length]])\n",
    "        tX = np.vstack((tX, sec))\n",
    "    return tX"
   ]
  },
  {
   "cell_type": "code",
   "execution_count": 7,
   "metadata": {
    "lines_to_next_cell": 1
   },
   "outputs": [],
   "source": [
    "from sklearn.tree import DecisionTreeClassifier"
   ]
  },
  {
   "cell_type": "code",
   "execution_count": 8,
   "metadata": {},
   "outputs": [],
   "source": [
    "def train_using_gini(X_train, y_train):\n",
    "    # Creating the classifier object\n",
    "    clf_gini = DecisionTreeClassifier(criterion=\"entropy\",\n",
    "                                      random_state=100, max_depth=5, min_samples_leaf=5)\n",
    "    # Performing training\n",
    "    clf_gini.fit(X_train, y_train)\n",
    "    return clf_gini"
   ]
  },
  {
   "cell_type": "code",
   "execution_count": 9,
   "metadata": {},
   "outputs": [],
   "source": [
    "# Function to make predictions\n",
    "def prediction(X, clf_object):\n",
    "    # Predicton on test with giniIndex\n",
    "    y_pred = clf_object.predict(X)\n",
    "    return y_pred"
   ]
  },
  {
   "cell_type": "code",
   "execution_count": null,
   "metadata": {},
   "outputs": [],
   "source": []
  },
  {
   "cell_type": "code",
   "execution_count": 10,
   "metadata": {},
   "outputs": [],
   "source": [
    "clf_gini = train_using_gini(extractX(Xtr,5), ytr)\n",
    "y_pred_gini = prediction(extractX(Xte,5), clf_gini)"
   ]
  },
  {
   "cell_type": "code",
   "execution_count": 11,
   "metadata": {},
   "outputs": [
    {
     "name": "stdout",
     "output_type": "stream",
     "text": [
      "[['Arnold Sommerfeld' '0.0']\n",
      " ['Edward Arnold' '0.0']\n",
      " ['Gichin Funakoshi' '0.0']\n",
      " ['John Heartfield' '1.0']\n",
      " ['Morihei Ueshiba' '1.0']\n",
      " ['Erik Bergman' '0.0']\n",
      " ['Gypsy Rose Lee' '0.0']\n",
      " ['Irene Ryan' '0.0']\n",
      " ['Sidney Franklin' '1.0']\n",
      " ['Sid James' '1.0']\n",
      " ['Armstrong Sperry' '0.0']\n",
      " ['Cicely Courtneidge' '0.0']\n",
      " ['Jim Davis' '1.0']\n",
      " ['Count Basie' '1.0']\n",
      " ['Broderick Crawford' '0.0']\n",
      " ['Bessie Love' '1.0']\n",
      " ['Dechko Uzunov' '1.0']\n",
      " ['John Silkin' '1.0']\n",
      " ['Lucille Ball' '1.0']\n",
      " ['Leo Arnaud' '1.0']\n",
      " ['Carmine Coppola' '1.0']\n",
      " ['Richard Hatfield' '1.0']\n",
      " ['Mas Oyama' '1.0']\n",
      " ['Stirling Silliphant' '0.0']\n",
      " ['Adrian Borland' '0.0']\n",
      " ['Jill Dando' '1.0']\n",
      " ['Rosemary Brown' '1.0']\n",
      " ['Yun Hyon-seok' '1.0']\n",
      " ['Edward Max Nicholson' '0.0']\n",
      " ['Hubert Selby' '0.0']\n",
      " ['Mason Adams' '1.0']\n",
      " ['Elisabeth Domitien' '0.0']\n",
      " ['Maria Schell' '1.0']\n",
      " ['Augusto Roa Bastos' '0.0']\n",
      " ['Jack Valenti' '1.0']\n",
      " ['Hans Holzer' '1.0']\n",
      " ['Mariam A. Aleem' '1.0']\n",
      " ['Urs Felber' '0.0']\n",
      " ['Phoebe Snow' '0.0']\n",
      " ['Terence Spinks' '1.0']\n",
      " ['Jacqueline Brookes' '1.0']\n",
      " ['George Jones' '1.0']\n",
      " ['Gerald Guralnik' '1.0']\n",
      " ['Paul Robeson' '1.0']\n",
      " ['Jayne Meadows' '1.0']\n",
      " ['Marcel Pronovost' '1.0']\n",
      " ['Harry Wu' '1.0']\n",
      " ['Jonathan Demme' '1.0']]\n"
     ]
    }
   ],
   "source": [
    "comp = np.hstack((np.transpose(np.array([Xte])), np.transpose([y_pred_gini])))\n",
    "print(comp)"
   ]
  },
  {
   "cell_type": "code",
   "execution_count": 12,
   "metadata": {},
   "outputs": [
    {
     "name": "stdout",
     "output_type": "stream",
     "text": [
      "accuracy =  0.9166666666666666\n"
     ]
    }
   ],
   "source": [
    "accuracy = (y_pred_gini == yte).mean()\n",
    "print('accuracy = ', accuracy)"
   ]
  },
  {
   "cell_type": "code",
   "execution_count": null,
   "metadata": {
    "lines_to_next_cell": 2
   },
   "outputs": [],
   "source": []
  }
 ],
 "metadata": {
  "jupytext": {
   "cell_metadata_filter": "-all",
   "notebook_metadata_filter": "-all",
   "text_representation": {
    "extension": ".py",
    "format_name": "light"
   }
  },
  "kernelspec": {
   "display_name": "Python 3",
   "language": "python",
   "name": "python3"
  },
  "language_info": {
   "codemirror_mode": {
    "name": "ipython",
    "version": 3
   },
   "file_extension": ".py",
   "mimetype": "text/x-python",
   "name": "python",
   "nbconvert_exporter": "python",
   "pygments_lexer": "ipython3",
   "version": "3.7.8"
  }
 },
 "nbformat": 4,
 "nbformat_minor": 4
}
